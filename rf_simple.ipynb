{
 "cells": [
  {
   "cell_type": "code",
   "execution_count": 4,
   "id": "a11ba127",
   "metadata": {},
   "outputs": [],
   "source": [
    "from pathlib import Path\n",
    "import joblib\n",
    "import datetime\n",
    "\n",
    "import pandas as pd\n",
    "\n",
    "from sklearn.model_selection import train_test_split\n",
    "from sklearn.ensemble import RandomForestRegressor\n",
    "from sklearn.metrics import root_mean_squared_error"
   ]
  },
  {
   "cell_type": "code",
   "execution_count": 8,
   "id": "13dd24bb",
   "metadata": {},
   "outputs": [],
   "source": [
    "def load_data(filename: str) -> pd.DataFrame:\n",
    "    p = Path(f\"./data/{filename}\")\n",
    "    assert p.exists()\n",
    "\n",
    "    train_df = pd.read_csv(filepath_or_buffer=p)\n",
    "\n",
    "    train_df[\"Genre\"] = train_df.Genre.astype(\"category\").cat.codes\n",
    "    train_df[\"Episode_Sentiment\"] = train_df.Episode_Sentiment.astype(\n",
    "        \"category\"\n",
    "    ).cat.codes\n",
    "    train_df[\"Publication_Day\"] = train_df.Publication_Day.astype(\"category\").cat.codes\n",
    "    train_df[\"Publication_Time\"] = train_df.Publication_Time.astype(\n",
    "        \"category\"\n",
    "    ).cat.codes\n",
    "    train_df[\"Episode_Title\"] = train_df.Episode_Title.astype(\"category\").cat.codes\n",
    "    train_df[\"Podcast_Name\"] = train_df.Podcast_Name.astype(\"category\").cat.codes\n",
    "\n",
    "    return train_df\n",
    "\n",
    "\n",
    "train_df = load_data(\"train.csv\")\n",
    "test_df = load_data(\"test.csv\")"
   ]
  },
  {
   "cell_type": "code",
   "execution_count": 9,
   "id": "e39ec879",
   "metadata": {},
   "outputs": [
    {
     "name": "stdout",
     "output_type": "stream",
     "text": [
      "<class 'pandas.core.frame.DataFrame'>\n",
      "RangeIndex: 750000 entries, 0 to 749999\n",
      "Data columns (total 12 columns):\n",
      " #   Column                       Non-Null Count   Dtype  \n",
      "---  ------                       --------------   -----  \n",
      " 0   id                           750000 non-null  int64  \n",
      " 1   Podcast_Name                 750000 non-null  int8   \n",
      " 2   Episode_Title                750000 non-null  int8   \n",
      " 3   Episode_Length_minutes       662907 non-null  float64\n",
      " 4   Genre                        750000 non-null  int8   \n",
      " 5   Host_Popularity_percentage   750000 non-null  float64\n",
      " 6   Publication_Day              750000 non-null  int8   \n",
      " 7   Publication_Time             750000 non-null  int8   \n",
      " 8   Guest_Popularity_percentage  603970 non-null  float64\n",
      " 9   Number_of_Ads                749999 non-null  float64\n",
      " 10  Episode_Sentiment            750000 non-null  int8   \n",
      " 11  Listening_Time_minutes       750000 non-null  float64\n",
      "dtypes: float64(5), int64(1), int8(6)\n",
      "memory usage: 38.6 MB\n"
     ]
    }
   ],
   "source": [
    "train_df.info()"
   ]
  },
  {
   "cell_type": "code",
   "execution_count": null,
   "id": "1237947a",
   "metadata": {},
   "outputs": [],
   "source": [
    "test_df.info()"
   ]
  },
  {
   "cell_type": "code",
   "execution_count": null,
   "id": "399a5864",
   "metadata": {},
   "outputs": [],
   "source": [
    "train_df.corr(numeric_only=True)"
   ]
  },
  {
   "cell_type": "code",
   "execution_count": null,
   "id": "aea6e9d5",
   "metadata": {},
   "outputs": [],
   "source": [
    "X = train_df.drop(columns=[\"id\", \"Listening_Time_minutes\"])\n",
    "y = train_df[\"Listening_Time_minutes\"]\n",
    "X_train, X_test, y_train, y_test = train_test_split(\n",
    "    X, y, test_size=0.2, random_state=42\n",
    ")"
   ]
  },
  {
   "cell_type": "code",
   "execution_count": 2,
   "id": "0196b32f",
   "metadata": {},
   "outputs": [
    {
     "ename": "NameError",
     "evalue": "name 'RandomForestRegressor' is not defined",
     "output_type": "error",
     "traceback": [
      "\u001b[31m---------------------------------------------------------------------------\u001b[39m",
      "\u001b[31mNameError\u001b[39m                                 Traceback (most recent call last)",
      "\u001b[36mCell\u001b[39m\u001b[36m \u001b[39m\u001b[32mIn[2]\u001b[39m\u001b[32m, line 1\u001b[39m\n\u001b[32m----> \u001b[39m\u001b[32m1\u001b[39m model = \u001b[43mRandomForestRegressor\u001b[49m(random_state=\u001b[32m42\u001b[39m)\n\u001b[32m      2\u001b[39m model.fit(X_train, y_train)\n",
      "\u001b[31mNameError\u001b[39m: name 'RandomForestRegressor' is not defined"
     ]
    }
   ],
   "source": [
    "model = RandomForestRegressor(random_state=42)\n",
    "model.fit(X_train, y_train)"
   ]
  },
  {
   "cell_type": "code",
   "execution_count": null,
   "id": "dccd9558",
   "metadata": {},
   "outputs": [],
   "source": [
    "joblib.load()"
   ]
  },
  {
   "cell_type": "code",
   "execution_count": null,
   "id": "219c8928",
   "metadata": {},
   "outputs": [],
   "source": [
    "y_pred = model.predict(X_test)\n",
    "rmse = root_mean_squared_error(y_test, y_pred)\n",
    "print(\"RMSE:\", rmse)"
   ]
  },
  {
   "cell_type": "code",
   "execution_count": null,
   "id": "73110268",
   "metadata": {},
   "outputs": [],
   "source": [
    "importances = pd.Series(model.feature_importances_, index=X.columns)\n",
    "print(importances.sort_values(ascending=False))"
   ]
  },
  {
   "cell_type": "code",
   "execution_count": 5,
   "id": "b19d820b",
   "metadata": {},
   "outputs": [],
   "source": [
    "model_path = Path('./models/rf_simple_model_bundle.pkl')"
   ]
  },
  {
   "cell_type": "code",
   "execution_count": null,
   "id": "9d6a86ab",
   "metadata": {},
   "outputs": [],
   "source": [
    "model_bundle = {\n",
    "    'model': model,\n",
    "    'metrics': {\n",
    "        'rmse': rmse,\n",
    "    },\n",
    "    \"test_size\" : 0.2,\n",
    "    'metadata': {\n",
    "        'trained_on': str(datetime.datetime.now()),\n",
    "        'model_type': 'RandomForestRegressor',\n",
    "        'features': list(X.columns),\n",
    "        'target': 'Listening_Time_minutes'\n",
    "    }\n",
    "}\n",
    "\n",
    "joblib.dump(model_bundle, model_path = Path('./models/rf_simple_model_bundle.pkl'))"
   ]
  },
  {
   "cell_type": "code",
   "execution_count": 6,
   "id": "08c802eb",
   "metadata": {},
   "outputs": [],
   "source": [
    "model_bundle = joblib.load(model_path)"
   ]
  },
  {
   "cell_type": "code",
   "execution_count": 7,
   "id": "2abeeb08",
   "metadata": {},
   "outputs": [
    {
     "data": {
      "text/plain": [
       "{'model': RandomForestRegressor(random_state=42),\n",
       " 'metrics': {'rmse': 12.786886034745974},\n",
       " 'test_size': 0.2,\n",
       " 'metadata': {'trained_on': '2025-04-19 17:33:29.651741',\n",
       "  'model_type': 'RandomForestRegressor',\n",
       "  'features': ['id',\n",
       "   'Podcast_Name',\n",
       "   'Episode_Title',\n",
       "   'Episode_Length_minutes',\n",
       "   'Genre',\n",
       "   'Host_Popularity_percentage',\n",
       "   'Publication_Day',\n",
       "   'Publication_Time',\n",
       "   'Guest_Popularity_percentage',\n",
       "   'Number_of_Ads',\n",
       "   'Episode_Sentiment'],\n",
       "  'target': 'Listening_Time_minutes',\n",
       "  'scikit_learn_version': '1.4.2'}}"
      ]
     },
     "execution_count": 7,
     "metadata": {},
     "output_type": "execute_result"
    }
   ],
   "source": [
    "model_bundle"
   ]
  }
 ],
 "metadata": {
  "kernelspec": {
   "display_name": ".venv",
   "language": "python",
   "name": "python3"
  },
  "language_info": {
   "codemirror_mode": {
    "name": "ipython",
    "version": 3
   },
   "file_extension": ".py",
   "mimetype": "text/x-python",
   "name": "python",
   "nbconvert_exporter": "python",
   "pygments_lexer": "ipython3",
   "version": "3.13.3"
  }
 },
 "nbformat": 4,
 "nbformat_minor": 5
}

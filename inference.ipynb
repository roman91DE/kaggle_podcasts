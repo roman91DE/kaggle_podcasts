{
 "cells": [
  {
   "cell_type": "code",
   "execution_count": 1,
   "id": "7cb00537",
   "metadata": {},
   "outputs": [],
   "source": [
    "from pathlib import Path\n",
    "import joblib\n",
    "\n",
    "import pandas as pd"
   ]
  },
  {
   "cell_type": "code",
   "execution_count": 2,
   "id": "fcbcf51f",
   "metadata": {},
   "outputs": [],
   "source": [
    "def load_data(filename: str) -> pd.DataFrame:\n",
    "    p = Path(f\"./data/{filename}\")\n",
    "    assert p.exists()\n",
    "\n",
    "    df = pd.read_csv(filepath_or_buffer=p)\n",
    "\n",
    "    df[\"Genre\"] = df.Genre.astype(\"category\").cat.codes\n",
    "    df[\"Episode_Sentiment\"] = df.Episode_Sentiment.astype(\"category\").cat.codes\n",
    "    df[\"Publication_Day\"] = df.Publication_Day.astype(\"category\").cat.codes\n",
    "    df[\"Publication_Time\"] = df.Publication_Time.astype(\"category\").cat.codes\n",
    "    df[\"Episode_Title\"] = df.Episode_Title.astype(\"category\").cat.codes\n",
    "    df[\"Podcast_Name\"] = df.Podcast_Name.astype(\"category\").cat.codes\n",
    "\n",
    "    return df\n",
    "\n",
    "\n",
    "test_df = load_data(\"test.csv\")"
   ]
  },
  {
   "cell_type": "code",
   "execution_count": 3,
   "id": "050d72c3",
   "metadata": {},
   "outputs": [],
   "source": [
    "modeldir = Path(\"./models\")\n",
    "modelpath = modeldir / \"xgb_tuned_scnd_model_bundle.pkl\"\n",
    "\n",
    "assert modelpath.exists()"
   ]
  },
  {
   "cell_type": "code",
   "execution_count": 4,
   "id": "90cbdc17",
   "metadata": {},
   "outputs": [],
   "source": [
    "bundle = joblib.load(modelpath)"
   ]
  },
  {
   "cell_type": "code",
   "execution_count": 5,
   "id": "8ff2dee3",
   "metadata": {},
   "outputs": [],
   "source": [
    "model = bundle.get(\"model\")"
   ]
  },
  {
   "cell_type": "code",
   "execution_count": 6,
   "id": "61130128",
   "metadata": {},
   "outputs": [
    {
     "data": {
      "text/plain": [
       "{'objective': 'reg:squarederror',\n",
       " 'base_score': None,\n",
       " 'booster': None,\n",
       " 'callbacks': None,\n",
       " 'colsample_bylevel': None,\n",
       " 'colsample_bynode': None,\n",
       " 'colsample_bytree': 0.8,\n",
       " 'device': None,\n",
       " 'early_stopping_rounds': None,\n",
       " 'enable_categorical': False,\n",
       " 'eval_metric': None,\n",
       " 'feature_types': None,\n",
       " 'feature_weights': None,\n",
       " 'gamma': None,\n",
       " 'grow_policy': None,\n",
       " 'importance_type': None,\n",
       " 'interaction_constraints': None,\n",
       " 'learning_rate': 0.2,\n",
       " 'max_bin': None,\n",
       " 'max_cat_threshold': None,\n",
       " 'max_cat_to_onehot': None,\n",
       " 'max_delta_step': None,\n",
       " 'max_depth': 8,\n",
       " 'max_leaves': None,\n",
       " 'min_child_weight': None,\n",
       " 'missing': nan,\n",
       " 'monotone_constraints': None,\n",
       " 'multi_strategy': None,\n",
       " 'n_estimators': 180,\n",
       " 'n_jobs': None,\n",
       " 'num_parallel_tree': None,\n",
       " 'random_state': 42,\n",
       " 'reg_alpha': None,\n",
       " 'reg_lambda': None,\n",
       " 'sampling_method': None,\n",
       " 'scale_pos_weight': None,\n",
       " 'subsample': 0.6,\n",
       " 'tree_method': 'hist',\n",
       " 'validate_parameters': None,\n",
       " 'verbosity': 0}"
      ]
     },
     "execution_count": 6,
     "metadata": {},
     "output_type": "execute_result"
    }
   ],
   "source": [
    "model.get_params()"
   ]
  },
  {
   "cell_type": "code",
   "execution_count": 7,
   "id": "1ca63ea6",
   "metadata": {},
   "outputs": [],
   "source": [
    "test_df[\"Listening_Time_minutes\"] = model.predict(test_df.drop(columns=[\"id\"]))"
   ]
  },
  {
   "cell_type": "code",
   "execution_count": 8,
   "id": "40718a58",
   "metadata": {},
   "outputs": [],
   "source": [
    "submission_dir = Path(\"./submissions\")\n",
    "test_df.filter(items=[\"id\", \"Listening_Time_minutes\"]).to_csv(\n",
    "    submission_dir / \"xgboost_scnd.csv\", index=False\n",
    ")"
   ]
  }
 ],
 "metadata": {
  "kernelspec": {
   "display_name": ".venv",
   "language": "python",
   "name": "python3"
  },
  "language_info": {
   "codemirror_mode": {
    "name": "ipython",
    "version": 3
   },
   "file_extension": ".py",
   "mimetype": "text/x-python",
   "name": "python",
   "nbconvert_exporter": "python",
   "pygments_lexer": "ipython3",
   "version": "3.13.3"
  }
 },
 "nbformat": 4,
 "nbformat_minor": 5
}

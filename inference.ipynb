{
 "cells": [
  {
   "cell_type": "code",
   "execution_count": 1,
   "id": "7cb00537",
   "metadata": {},
   "outputs": [],
   "source": [
    "from pathlib import Path\n",
    "import joblib\n",
    "\n",
    "import pandas as pd"
   ]
  },
  {
   "cell_type": "code",
   "execution_count": 2,
   "id": "fcbcf51f",
   "metadata": {},
   "outputs": [],
   "source": [
    "def load_data(filename: str) -> pd.DataFrame:\n",
    "    p = Path(f\"./data/{filename}\")\n",
    "    assert p.exists()\n",
    "\n",
    "    df = pd.read_csv(filepath_or_buffer=p)\n",
    "\n",
    "    df[\"Genre\"] = df.Genre.astype(\"category\").cat.codes\n",
    "    df[\"Episode_Sentiment\"] = df.Episode_Sentiment.astype(\"category\").cat.codes\n",
    "    df[\"Publication_Day\"] = df.Publication_Day.astype(\"category\").cat.codes\n",
    "    df[\"Publication_Time\"] = df.Publication_Time.astype(\"category\").cat.codes\n",
    "    df[\"Episode_Title\"] = df.Episode_Title.astype(\"category\").cat.codes\n",
    "    df[\"Podcast_Name\"] = df.Podcast_Name.astype(\"category\").cat.codes\n",
    "\n",
    "    return df\n",
    "\n",
    "\n",
    "test_df = load_data(\"test.csv\")"
   ]
  },
  {
   "cell_type": "code",
   "execution_count": 9,
   "id": "050d72c3",
   "metadata": {},
   "outputs": [],
   "source": [
    "modeldir = Path(\"./models\")\n",
    "modelpath = modeldir / \"rf_ga_tuned_fst_model_with_pipeline.pkl\"\n",
    "\n",
    "assert modelpath.exists()"
   ]
  },
  {
   "cell_type": "code",
   "execution_count": 4,
   "id": "90cbdc17",
   "metadata": {},
   "outputs": [],
   "source": [
    "bundle = joblib.load(modelpath)"
   ]
  },
  {
   "cell_type": "code",
   "execution_count": 5,
   "id": "8ff2dee3",
   "metadata": {},
   "outputs": [],
   "source": [
    "model = bundle.get(\"model\")"
   ]
  },
  {
   "cell_type": "code",
   "execution_count": 6,
   "id": "61130128",
   "metadata": {},
   "outputs": [
    {
     "data": {
      "text/plain": [
       "{'memory': None,\n",
       " 'steps': [('imputer',\n",
       "   OptionalTransformer(transformer=SimpleImputer(strategy='median'))),\n",
       "  ('scaler', OptionalTransformer()),\n",
       "  ('regressor',\n",
       "   RandomForestRegressor(bootstrap=False, max_depth=32, max_features=None,\n",
       "                         min_samples_leaf=5, min_samples_split=8, n_estimators=187,\n",
       "                         random_state=42))],\n",
       " 'transform_input': None,\n",
       " 'verbose': False,\n",
       " 'imputer': OptionalTransformer(transformer=SimpleImputer(strategy='median')),\n",
       " 'scaler': OptionalTransformer(),\n",
       " 'regressor': RandomForestRegressor(bootstrap=False, max_depth=32, max_features=None,\n",
       "                       min_samples_leaf=5, min_samples_split=8, n_estimators=187,\n",
       "                       random_state=42),\n",
       " 'imputer__transformer__add_indicator': False,\n",
       " 'imputer__transformer__copy': True,\n",
       " 'imputer__transformer__fill_value': None,\n",
       " 'imputer__transformer__keep_empty_features': False,\n",
       " 'imputer__transformer__missing_values': nan,\n",
       " 'imputer__transformer__strategy': 'median',\n",
       " 'imputer__transformer': SimpleImputer(strategy='median'),\n",
       " 'scaler__transformer': None,\n",
       " 'regressor__bootstrap': False,\n",
       " 'regressor__ccp_alpha': 0.0,\n",
       " 'regressor__criterion': 'squared_error',\n",
       " 'regressor__max_depth': 32,\n",
       " 'regressor__max_features': None,\n",
       " 'regressor__max_leaf_nodes': None,\n",
       " 'regressor__max_samples': None,\n",
       " 'regressor__min_impurity_decrease': 0.0,\n",
       " 'regressor__min_samples_leaf': 5,\n",
       " 'regressor__min_samples_split': 8,\n",
       " 'regressor__min_weight_fraction_leaf': 0.0,\n",
       " 'regressor__monotonic_cst': None,\n",
       " 'regressor__n_estimators': 187,\n",
       " 'regressor__n_jobs': None,\n",
       " 'regressor__oob_score': False,\n",
       " 'regressor__random_state': 42,\n",
       " 'regressor__verbose': 0,\n",
       " 'regressor__warm_start': False}"
      ]
     },
     "execution_count": 6,
     "metadata": {},
     "output_type": "execute_result"
    }
   ],
   "source": [
    "model.get_params()"
   ]
  },
  {
   "cell_type": "code",
   "execution_count": 7,
   "id": "1ca63ea6",
   "metadata": {},
   "outputs": [],
   "source": [
    "test_df[\"Listening_Time_minutes\"] = model.predict(test_df.drop(columns=[\"id\"]))"
   ]
  },
  {
   "cell_type": "code",
   "execution_count": null,
   "id": "40718a58",
   "metadata": {},
   "outputs": [],
   "source": [
    "submission_dir = Path(\"./submissions\")\n",
    "test_df.filter(items=[\"id\", \"Listening_Time_minutes\"]).to_csv(\n",
    "    submission_dir / \"rf_ga_tuned_pp.csv\", index=False\n",
    ")"
   ]
  }
 ],
 "metadata": {
  "kernelspec": {
   "display_name": ".venv",
   "language": "python",
   "name": "python3"
  },
  "language_info": {
   "codemirror_mode": {
    "name": "ipython",
    "version": 3
   },
   "file_extension": ".py",
   "mimetype": "text/x-python",
   "name": "python",
   "nbconvert_exporter": "python",
   "pygments_lexer": "ipython3",
   "version": "3.13.3"
  }
 },
 "nbformat": 4,
 "nbformat_minor": 5
}

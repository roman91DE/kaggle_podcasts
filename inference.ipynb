{
 "cells": [
  {
   "cell_type": "code",
   "execution_count": 7,
   "id": "7cb00537",
   "metadata": {},
   "outputs": [],
   "source": [
    "from pathlib import Path\n",
    "import joblib\n",
    "\n",
    "import pandas as pd"
   ]
  },
  {
   "cell_type": "code",
   "execution_count": 8,
   "id": "fcbcf51f",
   "metadata": {},
   "outputs": [],
   "source": [
    "def load_data(filename: str) -> pd.DataFrame:\n",
    "    p = Path(f\"./data/{filename}\")\n",
    "    assert p.exists()\n",
    "\n",
    "    df = pd.read_csv(filepath_or_buffer=p)\n",
    "\n",
    "    df[\"Genre\"] = df.Genre.astype(\"category\").cat.codes\n",
    "    df[\"Episode_Sentiment\"] = df.Episode_Sentiment.astype(\n",
    "        \"category\"\n",
    "    ).cat.codes\n",
    "    df[\"Publication_Day\"] = df.Publication_Day.astype(\"category\").cat.codes\n",
    "    df[\"Publication_Time\"] = df.Publication_Time.astype(\n",
    "        \"category\"\n",
    "    ).cat.codes\n",
    "    df[\"Episode_Title\"] = df.Episode_Title.astype(\"category\").cat.codes\n",
    "    df[\"Podcast_Name\"] = df.Podcast_Name.astype(\"category\").cat.codes\n",
    "\n",
    "    return df\n",
    "\n",
    "\n",
    "test_df = load_data(\"test.csv\")"
   ]
  },
  {
   "cell_type": "code",
   "execution_count": 9,
   "id": "050d72c3",
   "metadata": {},
   "outputs": [],
   "source": [
    "modeldir = Path(\"./models\")\n",
    "model = modeldir / \"rf_tuned_model_bundle.pkl\""
   ]
  },
  {
   "cell_type": "code",
   "execution_count": 10,
   "id": "90cbdc17",
   "metadata": {},
   "outputs": [],
   "source": [
    "bundle = joblib.load(model)"
   ]
  },
  {
   "cell_type": "code",
   "execution_count": 11,
   "id": "8ff2dee3",
   "metadata": {},
   "outputs": [],
   "source": [
    "model = bundle.get(\"model\")"
   ]
  },
  {
   "cell_type": "code",
   "execution_count": 16,
   "id": "61130128",
   "metadata": {},
   "outputs": [
    {
     "data": {
      "text/plain": [
       "{'bootstrap': True,\n",
       " 'ccp_alpha': 0.0,\n",
       " 'criterion': 'squared_error',\n",
       " 'max_depth': None,\n",
       " 'max_features': 'log2',\n",
       " 'max_leaf_nodes': None,\n",
       " 'max_samples': None,\n",
       " 'min_impurity_decrease': 0.0,\n",
       " 'min_samples_leaf': 2,\n",
       " 'min_samples_split': 2,\n",
       " 'min_weight_fraction_leaf': 0.0,\n",
       " 'monotonic_cst': None,\n",
       " 'n_estimators': 175,\n",
       " 'n_jobs': None,\n",
       " 'oob_score': False,\n",
       " 'random_state': 42,\n",
       " 'verbose': 0,\n",
       " 'warm_start': False}"
      ]
     },
     "execution_count": 16,
     "metadata": {},
     "output_type": "execute_result"
    }
   ],
   "source": [
    "model.get_params()"
   ]
  },
  {
   "cell_type": "code",
   "execution_count": 13,
   "id": "1ca63ea6",
   "metadata": {},
   "outputs": [],
   "source": [
    "test_df[\"Listening_Time_minutes\"] = model.predict(test_df.drop(columns=[\"id\"]))"
   ]
  },
  {
   "cell_type": "code",
   "execution_count": 14,
   "id": "40718a58",
   "metadata": {},
   "outputs": [],
   "source": [
    "submission_dir = Path(\"./submissions\")\n",
    "test_df.filter(items=[\"id\", \"Listening_Time_minutes\"]).to_csv(\n",
    "    submission_dir / \"tuned_rf.csv\",\n",
    "    index=False\n",
    ")"
   ]
  }
 ],
 "metadata": {
  "kernelspec": {
   "display_name": ".venv",
   "language": "python",
   "name": "python3"
  },
  "language_info": {
   "codemirror_mode": {
    "name": "ipython",
    "version": 3
   },
   "file_extension": ".py",
   "mimetype": "text/x-python",
   "name": "python",
   "nbconvert_exporter": "python",
   "pygments_lexer": "ipython3",
   "version": "3.13.3"
  }
 },
 "nbformat": 4,
 "nbformat_minor": 5
}

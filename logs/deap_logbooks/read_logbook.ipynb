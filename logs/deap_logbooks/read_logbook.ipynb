{
 "cells": [
  {
   "cell_type": "code",
   "execution_count": 1,
   "id": "aff3e58c",
   "metadata": {},
   "outputs": [],
   "source": [
    "import joblib"
   ]
  },
  {
   "cell_type": "code",
   "execution_count": 2,
   "id": "44c4e0d3",
   "metadata": {},
   "outputs": [],
   "source": [
    "l = joblib.load(\"ga_rf_opt_pp.pkl\")"
   ]
  },
  {
   "cell_type": "code",
   "execution_count": 5,
   "id": "0d45b184",
   "metadata": {},
   "outputs": [
    {
     "data": {
      "text/plain": [
       "{'index': 416,\n",
       " 'imputer__transformer': None,\n",
       " 'scaler__transformer': None,\n",
       " 'regressor__n_estimators': 258,\n",
       " 'regressor__max_depth': 27,\n",
       " 'regressor__min_samples_split': 4,\n",
       " 'regressor__min_samples_leaf': 3,\n",
       " 'regressor__max_features': None,\n",
       " 'regressor__bootstrap': True,\n",
       " 'score': np.float64(-14.885162519650759),\n",
       " 'cv_scores': array([-15.85273493, -13.91759011]),\n",
       " 'fit_time': array([0.0776701 , 0.07725525]),\n",
       " 'score_time': array([0.00542903, 0.00554085]),\n",
       " 'test_score': array([-15.85273493, -13.91759011]),\n",
       " 'train_score': array([-7.98581021, -9.1879165 ])}"
      ]
     },
     "execution_count": 5,
     "metadata": {},
     "output_type": "execute_result"
    }
   ],
   "source": [
    "l[-1]"
   ]
  }
 ],
 "metadata": {
  "kernelspec": {
   "display_name": ".venv",
   "language": "python",
   "name": "python3"
  },
  "language_info": {
   "codemirror_mode": {
    "name": "ipython",
    "version": 3
   },
   "file_extension": ".py",
   "mimetype": "text/x-python",
   "name": "python",
   "nbconvert_exporter": "python",
   "pygments_lexer": "ipython3",
   "version": "3.13.3"
  }
 },
 "nbformat": 4,
 "nbformat_minor": 5
}
